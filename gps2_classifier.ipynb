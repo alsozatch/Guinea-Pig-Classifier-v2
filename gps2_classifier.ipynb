{
 "cells": [
  {
   "cell_type": "code",
   "execution_count": 2,
   "metadata": {},
   "outputs": [],
   "source": [
    "from fastai.vision.all import *\n",
    "from fastai.vision.widgets import *"
   ]
  },
  {
   "cell_type": "code",
   "execution_count": 5,
   "metadata": {},
   "outputs": [],
   "source": [
    "path = Path()\n",
    "gp_or_not_inf = load_learner(path/'gps2_bool_classifier.pkl')\n",
    "which_gp_inf = load_learner(path/'gps2_classifier.pkl')\n",
    "btn_upload = widgets.FileUpload()\n",
    "btn_run = widgets.Button(description='Classify')\n",
    "out_pl = widgets.Output()\n",
    "lbl_pred = widgets.Label()"
   ]
  },
  {
   "cell_type": "code",
   "execution_count": 6,
   "metadata": {},
   "outputs": [],
   "source": [
    "def on_click_classify(change):\n",
    "    img = PILImage.create(btn_upload.data[-1])\n",
    "    out_pl.clear_output()\n",
    "    #btn_upload.data.clear()\n",
    "    with out_pl: display(img.to_thumb(128,128))\n",
    "    pred1,pred_idx1,probs1 = gp_or_not_inf.predict(img)\n",
    "    if pred1 == 'yes_gps':\n",
    "        pred2,pred_idx2,probs2 = which_gp_inf.predict(img)\n",
    "        lbl_pred.value = f'This is a guinea pig with probability {probs1[pred_idx1]:.04f}. If so, it is a guinea pig of breed {pred2} with probability {probs2[pred_idx2]:.04f}.'\n",
    "    else:\n",
    "        lbl_pred.value = f'This is not a guinea pig with probability {probs1[pred_idx1]:.04f}.'\n",
    "\n",
    "btn_run.on_click(on_click_classify)"
   ]
  },
  {
   "cell_type": "markdown",
   "metadata": {},
   "source": [
    "# Guinea Pig Classifier - Zachary Adler\n",
    "\n",
    "This classifier will tell you whether or not your image is of a guinea pig and, if so, which breed that guinea pig is. Simply upload an image, click classify, then wait for a result. Classification may not be instantaneous, so please give it some time."
   ]
  },
  {
   "cell_type": "code",
   "execution_count": 7,
   "metadata": {},
   "outputs": [
    {
     "data": {
      "application/vnd.jupyter.widget-view+json": {
       "model_id": "239e7c797cb94e17b62e87fd7842b98c",
       "version_major": 2,
       "version_minor": 0
      },
      "text/plain": [
       "VBox(children=(Label(value='Upload and Classify a Guinea Pig!'), FileUpload(value={}, description='Upload'), B…"
      ]
     },
     "metadata": {},
     "output_type": "display_data"
    },
    {
     "data": {
      "text/html": [],
      "text/plain": [
       "<IPython.core.display.HTML object>"
      ]
     },
     "metadata": {},
     "output_type": "display_data"
    },
    {
     "data": {
      "text/html": [],
      "text/plain": [
       "<IPython.core.display.HTML object>"
      ]
     },
     "metadata": {},
     "output_type": "display_data"
    },
    {
     "data": {
      "text/html": [],
      "text/plain": [
       "<IPython.core.display.HTML object>"
      ]
     },
     "metadata": {},
     "output_type": "display_data"
    },
    {
     "data": {
      "text/html": [],
      "text/plain": [
       "<IPython.core.display.HTML object>"
      ]
     },
     "metadata": {},
     "output_type": "display_data"
    },
    {
     "data": {
      "text/html": [],
      "text/plain": [
       "<IPython.core.display.HTML object>"
      ]
     },
     "metadata": {},
     "output_type": "display_data"
    },
    {
     "data": {
      "text/html": [],
      "text/plain": [
       "<IPython.core.display.HTML object>"
      ]
     },
     "metadata": {},
     "output_type": "display_data"
    },
    {
     "data": {
      "text/html": [],
      "text/plain": [
       "<IPython.core.display.HTML object>"
      ]
     },
     "metadata": {},
     "output_type": "display_data"
    }
   ],
   "source": [
    "VBox([widgets.Label('Upload and Classify a Guinea Pig!'), \n",
    "      btn_upload, btn_run, out_pl, lbl_pred])"
   ]
  },
  {
   "cell_type": "markdown",
   "metadata": {},
   "source": [
    "### Disclaimer: Some breeds are very similar!\n",
    "\n",
    "Some of the following pairs of breeds have been grouped together into one result in the model, so you may get an output that says \"Skinny or Baldwin\" for the breed.\n",
    "\n",
    "The **Skinny and Baldwin** guinea pigs are both *almost entirely furless*, one of the only differences being a small patch of fur on the nose.\n",
    "\n",
    "The **Merino, Texel, and Alpaca** guinea pigs have *coarse knotted hair*, with relatively few differences, one being a minor disparity in hair length.\n",
    "\n",
    "The **Rex and Teddy** guinea pigs each have very *short, fuzzy hair*, with differences often not visible in photos, such as the length of their whiskers.\n",
    "\n",
    "Finally, the **Silkie, Peruvian, and Coronet** guinea pigs all have *luscious, long hair*, the differences between them residing mainly in whether the hair on their heads is normal, goes forward, or forms a crest."
   ]
  },
  {
   "cell_type": "code",
   "execution_count": null,
   "metadata": {},
   "outputs": [],
   "source": []
  }
 ],
 "metadata": {
  "kernelspec": {
   "display_name": "Python 3",
   "language": "python",
   "name": "python3"
  },
  "language_info": {
   "codemirror_mode": {
    "name": "ipython",
    "version": 3
   },
   "file_extension": ".py",
   "mimetype": "text/x-python",
   "name": "python",
   "nbconvert_exporter": "python",
   "pygments_lexer": "ipython3",
   "version": "3.8.5"
  }
 },
 "nbformat": 4,
 "nbformat_minor": 4
}
